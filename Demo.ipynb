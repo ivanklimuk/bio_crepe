{
 "cells": [
  {
   "cell_type": "markdown",
   "metadata": {},
   "source": [
    "#### Imports:"
   ]
  },
  {
   "cell_type": "code",
   "execution_count": 1,
   "metadata": {},
   "outputs": [],
   "source": [
    "ENV_FILE = './6896_model.env'\n",
    "\n",
    "from utils.notebook import set_env_vars\n",
    "set_env_vars(ENV_FILE)\n",
    "\n",
    "from constants import *\n",
    "from server import find_orf\n",
    "\n",
    "from Bio import SeqIO\n",
    "import pandas as pd\n",
    "import numpy as np"
   ]
  },
  {
   "cell_type": "markdown",
   "metadata": {},
   "source": [
    "#### Load test samples:"
   ]
  },
  {
   "cell_type": "code",
   "execution_count": 2,
   "metadata": {},
   "outputs": [],
   "source": [
    "mRNA_data_path = '../classification_playground/data/mRNAs.fasta'\n",
    "mRNA_coordinates_path = '../classification_playground/data/mRNA_CDS_coordinates.txt'\n",
    "\n",
    "mRNA_sequences = [{'transcription_id': str(sequence.id), 'sequence': str(sequence.seq)} for sequence in SeqIO.parse(open(mRNA_data_path),'fasta')]\n",
    "mRNA = pd.DataFrame(mRNA_sequences).set_index('transcription_id')\n",
    "mRNA['sequence'] = mRNA['sequence'].str.lower()\n",
    "\n",
    "mRNA_coordinates = pd.read_csv(mRNA_coordinates_path, sep='\\t', header=0, index_col=0)"
   ]
  },
  {
   "cell_type": "code",
   "execution_count": 3,
   "metadata": {},
   "outputs": [],
   "source": [
    "mRNA_coordinates = mRNA_coordinates[~(\n",
    "    mRNA_coordinates.start.str.startswith('<') |\n",
    "    mRNA_coordinates.start.str.startswith('>') |\n",
    "    mRNA_coordinates.end.str.startswith('<') |\n",
    "    mRNA_coordinates.end.str.startswith('>')\n",
    ")]\n",
    "\n",
    "mRNA_coordinates['start'] = mRNA_coordinates.start.astype(int) - 1  # python style start position\n",
    "mRNA_coordinates['end'] = mRNA_coordinates.end.astype(int)\n",
    "\n",
    "mRNA_coordinates = mRNA_coordinates[mRNA_coordinates.start > 20]"
   ]
  },
  {
   "cell_type": "code",
   "execution_count": 4,
   "metadata": {},
   "outputs": [],
   "source": [
    "mRNA_full = mRNA.join(other=mRNA_coordinates, how='right')\n",
    "\n",
    "subsample = np.random.choice(mRNA_full.index, size=10)\n",
    "\n",
    "mRNA_subsample = mRNA_full.loc[subsample]"
   ]
  },
  {
   "cell_type": "code",
   "execution_count": 5,
   "metadata": {},
   "outputs": [
    {
     "data": {
      "text/html": [
       "<div>\n",
       "<style scoped>\n",
       "    .dataframe tbody tr th:only-of-type {\n",
       "        vertical-align: middle;\n",
       "    }\n",
       "\n",
       "    .dataframe tbody tr th {\n",
       "        vertical-align: top;\n",
       "    }\n",
       "\n",
       "    .dataframe thead th {\n",
       "        text-align: right;\n",
       "    }\n",
       "</style>\n",
       "<table border=\"1\" class=\"dataframe\">\n",
       "  <thead>\n",
       "    <tr style=\"text-align: right;\">\n",
       "      <th></th>\n",
       "      <th>sequence</th>\n",
       "      <th>start</th>\n",
       "      <th>end</th>\n",
       "    </tr>\n",
       "    <tr>\n",
       "      <th>transcript_id</th>\n",
       "      <th></th>\n",
       "      <th></th>\n",
       "      <th></th>\n",
       "    </tr>\n",
       "  </thead>\n",
       "  <tbody>\n",
       "    <tr>\n",
       "      <th>NM_001014342.2</th>\n",
       "      <td>accctgcaagctgcatcaggctttatcctacttgttcctttggtga...</td>\n",
       "      <td>73</td>\n",
       "      <td>7249</td>\n",
       "    </tr>\n",
       "    <tr>\n",
       "      <th>NM_001291447.1</th>\n",
       "      <td>agctcccgcctccctccccagcagctcctccccataaactcccctc...</td>\n",
       "      <td>281</td>\n",
       "      <td>3002</td>\n",
       "    </tr>\n",
       "    <tr>\n",
       "      <th>NM_173477.4</th>\n",
       "      <td>agcgtttcagatgtcttggtagtcgcggctctggcgctccgcaccc...</td>\n",
       "      <td>190</td>\n",
       "      <td>1576</td>\n",
       "    </tr>\n",
       "    <tr>\n",
       "      <th>XM_006710938.4</th>\n",
       "      <td>atcgcttgaactcaggaggcagaggttgcagtgagccaagagcgct...</td>\n",
       "      <td>693</td>\n",
       "      <td>1608</td>\n",
       "    </tr>\n",
       "    <tr>\n",
       "      <th>NM_001256335.1</th>\n",
       "      <td>agagagaaccgcaacacctggtgccgggtcgggtcgtttccggggc...</td>\n",
       "      <td>332</td>\n",
       "      <td>893</td>\n",
       "    </tr>\n",
       "    <tr>\n",
       "      <th>NM_201264.1</th>\n",
       "      <td>cagagatcgcgagcgaggcaccagcctgcagccggcccccagcaca...</td>\n",
       "      <td>791</td>\n",
       "      <td>2459</td>\n",
       "    </tr>\n",
       "    <tr>\n",
       "      <th>NM_207577.1</th>\n",
       "      <td>aagattatagagacttgctttagaaccacaagaagaaagaggaggc...</td>\n",
       "      <td>65</td>\n",
       "      <td>1385</td>\n",
       "    </tr>\n",
       "    <tr>\n",
       "      <th>XM_006712960.3</th>\n",
       "      <td>accctggccgtcatcaggttcaacctcatattcaactgctgggcct...</td>\n",
       "      <td>275</td>\n",
       "      <td>1343</td>\n",
       "    </tr>\n",
       "    <tr>\n",
       "      <th>XM_011519170.2</th>\n",
       "      <td>tttcaaaaaaaaaaaaaaaaggctgaacaaactgaaaaaccagcgg...</td>\n",
       "      <td>647</td>\n",
       "      <td>1916</td>\n",
       "    </tr>\n",
       "    <tr>\n",
       "      <th>XM_011515526.2</th>\n",
       "      <td>ggtctgactccagtagcccatgttataaataaaggtttggtgccac...</td>\n",
       "      <td>98</td>\n",
       "      <td>1514</td>\n",
       "    </tr>\n",
       "  </tbody>\n",
       "</table>\n",
       "</div>"
      ],
      "text/plain": [
       "                                                         sequence  start   end\n",
       "transcript_id                                                                 \n",
       "NM_001014342.2  accctgcaagctgcatcaggctttatcctacttgttcctttggtga...     73  7249\n",
       "NM_001291447.1  agctcccgcctccctccccagcagctcctccccataaactcccctc...    281  3002\n",
       "NM_173477.4     agcgtttcagatgtcttggtagtcgcggctctggcgctccgcaccc...    190  1576\n",
       "XM_006710938.4  atcgcttgaactcaggaggcagaggttgcagtgagccaagagcgct...    693  1608\n",
       "NM_001256335.1  agagagaaccgcaacacctggtgccgggtcgggtcgtttccggggc...    332   893\n",
       "NM_201264.1     cagagatcgcgagcgaggcaccagcctgcagccggcccccagcaca...    791  2459\n",
       "NM_207577.1     aagattatagagacttgctttagaaccacaagaagaaagaggaggc...     65  1385\n",
       "XM_006712960.3  accctggccgtcatcaggttcaacctcatattcaactgctgggcct...    275  1343\n",
       "XM_011519170.2  tttcaaaaaaaaaaaaaaaaggctgaacaaactgaaaaaccagcgg...    647  1916\n",
       "XM_011515526.2  ggtctgactccagtagcccatgttataaataaaggtttggtgccac...     98  1514"
      ]
     },
     "execution_count": 5,
     "metadata": {},
     "output_type": "execute_result"
    }
   ],
   "source": [
    "mRNA_subsample"
   ]
  },
  {
   "cell_type": "code",
   "execution_count": 6,
   "metadata": {},
   "outputs": [
    {
     "data": {
      "text/plain": [
       "[{'start': 1827, 'end': 3093, 'probability': 0.9999755620956421},\n",
       " {'start': 1818, 'end': 3093, 'probability': 0.9999737739562988},\n",
       " {'start': 1827, 'end': 3075, 'probability': 0.9999463558197021},\n",
       " {'start': 1818, 'end': 3075, 'probability': 0.9999431371688843},\n",
       " {'start': 1163, 'end': 3086, 'probability': 0.9999359846115112},\n",
       " {'start': 1163, 'end': 3068, 'probability': 0.9999338388442993},\n",
       " {'start': 1163, 'end': 3002, 'probability': 0.999932050704956},\n",
       " {'start': 1163, 'end': 3116, 'probability': 0.9999222755432129},\n",
       " {'start': 1818, 'end': 3330, 'probability': 0.9999005794525146},\n",
       " {'start': 1818, 'end': 3408, 'probability': 0.9998998641967773}]"
      ]
     },
     "execution_count": 6,
     "metadata": {},
     "output_type": "execute_result"
    }
   ],
   "source": [
    "seq = mRNA_subsample.sequence[1]\n",
    "\n",
    "find_orf(seq, return_best=False, return_top=10, include_seq=False)"
   ]
  }
 ],
 "metadata": {
  "kernelspec": {
   "display_name": "Python 3",
   "language": "python",
   "name": "python3"
  },
  "language_info": {
   "codemirror_mode": {
    "name": "ipython",
    "version": 3
   },
   "file_extension": ".py",
   "mimetype": "text/x-python",
   "name": "python",
   "nbconvert_exporter": "python",
   "pygments_lexer": "ipython3",
   "version": "3.6.5"
  }
 },
 "nbformat": 4,
 "nbformat_minor": 2
}
